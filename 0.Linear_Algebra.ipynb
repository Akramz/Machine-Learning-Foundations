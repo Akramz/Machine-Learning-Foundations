{
 "cells": [
  {
   "cell_type": "markdown",
   "metadata": {},
   "source": [
    "# Linear Algebra\n",
    "Linear algebra is a branch of mathematics that is widely used throughout science and engineering. Yet because linear algebra is a form of continuous rather than discrete mathematics, many computer scientists have little experience with it. A good understanding of linear algebra is essential for understanding and working with many machine learning algorithms, especially deep learning algorithms."
   ]
  },
  {
   "cell_type": "code",
   "execution_count": 2,
   "metadata": {},
   "outputs": [],
   "source": [
    "# Imports.\n",
    "import numpy as np\n",
    "import pandas as pd\n",
    "import matplotlib.pyplot as plt"
   ]
  },
  {
   "cell_type": "markdown",
   "metadata": {},
   "source": [
    "# Scalars, Vectors, Matrices, and Tensors\n",
    "The Study of Linear algebra involves several types of mathematical objects, as follow:\n",
    "## Scalars\n",
    "A Scalar is just a single number, in contrast to most of the other objects studied in linear algebra, which are usually arrays of multiple numbers."
   ]
  },
  {
   "cell_type": "code",
   "execution_count": 1,
   "metadata": {},
   "outputs": [],
   "source": [
    "# an example of a scalar.\n",
    "s = 15.9"
   ]
  },
  {
   "cell_type": "markdown",
   "metadata": {},
   "source": [
    "## Vectors\n",
    "A vector is just an array of numbers. we can identify each individual number by its index in the array ordering, if each vector element is in $\\Bbb{R}$, and the vector has $n$ elements, than the vector lies in the set formed by the cartesian product of $\\Bbb{R}$ $n$ times, denoted as $\\Bbb{R}^n$. a typical way to represent vectors is as follows:\n",
    "\n",
    "$$\\bf{x}=\\begin{bmatrix}x_{1}\\\\x_{2}\\\\\\vdots\\\\x_{n}\\end{bmatrix}$$\n",
    "\n",
    "We can think of vectors as identifying a point in space, with each element giving the coordinate along a different axis, for example, we have the following vector:"
   ]
  },
  {
   "cell_type": "code",
   "execution_count": 63,
   "metadata": {},
   "outputs": [],
   "source": [
    "# a vector example (and a numpy array).\n",
    "v_1 = np.array([1.6, 3.33], dtype='float32')"
   ]
  },
  {
   "cell_type": "markdown",
   "metadata": {},
   "source": [
    "**What is a Numpy Array ?**\n",
    "Let's talk about numpy and the array we just created, any numpy array consist of two parts, a data buffer which is just a block of raw elements, and a view which describes how to interpret the data buffer.\n",
    "\n",
    "In our case, `v_1` is an array that consists of a data buffer, that has the following elements:"
   ]
  },
  {
   "cell_type": "code",
   "execution_count": 79,
   "metadata": {},
   "outputs": [
    {
     "data": {
      "text/plain": [
       "array([1.6 , 3.33], dtype=float32)"
      ]
     },
     "execution_count": 79,
     "metadata": {},
     "output_type": "execute_result"
    }
   ],
   "source": [
    "v_1"
   ]
  },
  {
   "cell_type": "markdown",
   "metadata": {},
   "source": [
    "And a view that describes the array in various ways, Let's look at the shape of the array as an example:"
   ]
  },
  {
   "cell_type": "code",
   "execution_count": 65,
   "metadata": {},
   "outputs": [
    {
     "data": {
      "text/plain": [
       "(2,)"
      ]
     },
     "execution_count": 65,
     "metadata": {},
     "output_type": "execute_result"
    }
   ],
   "source": [
    "v_1.shape"
   ]
  },
  {
   "cell_type": "markdown",
   "metadata": {},
   "source": [
    "The shape `(2,)` means the array `v_1` is indexed by a single index which runs from 0 to 1 along one axis.\n",
    "\n",
    "Let's draw this Vector is space by drawing the Point with the previous coordinates:"
   ]
  },
  {
   "cell_type": "code",
   "execution_count": 78,
   "metadata": {},
   "outputs": [
    {
     "data": {
      "image/png": "[encoded data removed]",
      "text/plain": [
       "<Figure size 432x288 with 1 Axes>"
      ]
     },
     "metadata": {},
     "output_type": "display_data"
    }
   ],
   "source": [
    "ax = plt.axes()\n",
    "ax.arrow(0, 0, v_1[0], v_1[1], head_width=0.1, head_length=0.1, fc='k', ec='k')\n",
    "plt.ylim(0,4)\n",
    "plt.xlim(0,2)\n",
    "plt.show()"
   ]
  },
  {
   "cell_type": "markdown",
   "metadata": {},
   "source": [
    "To access a particular element of interest, we use the index on the array, example:"
   ]
  },
  {
   "cell_type": "code",
   "execution_count": 80,
   "metadata": {},
   "outputs": [
    {
     "data": {
      "text/plain": [
       "3.33"
      ]
     },
     "execution_count": 80,
     "metadata": {},
     "output_type": "execute_result"
    }
   ],
   "source": [
    "# access the second element (index start at 0).\n",
    "v_1[1]"
   ]
  },
  {
   "cell_type": "markdown",
   "metadata": {},
   "source": [
    "Sometimes we need to index a set of element in a vector. In this case, we define a set containing the indices and write the set as a subscript, Let's create another vector:"
   ]
  },
  {
   "cell_type": "code",
   "execution_count": 81,
   "metadata": {},
   "outputs": [],
   "source": [
    "v = np.array([2, 7.99, 9, 11, -1, 3, 7], dtype='float32')"
   ]
  },
  {
   "cell_type": "markdown",
   "metadata": {},
   "source": [
    "If we need to access $x_1$, $x_3$, and $x_6$, we define the set $S=\\{1,3,6\\}$ and write $x_S$. in Numpy, we do the same thing:"
   ]
  },
  {
   "cell_type": "code",
   "execution_count": 104,
   "metadata": {},
   "outputs": [
    {
     "data": {
      "text/plain": [
       "array([2., 9., 3.], dtype=float32)"
      ]
     },
     "execution_count": 104,
     "metadata": {},
     "output_type": "execute_result"
    }
   ],
   "source": [
    "# we create a list of indices and get the vector elements of interest.\n",
    "S = [0,2,5]; v[S]"
   ]
  },
  {
   "cell_type": "markdown",
   "metadata": {},
   "source": [
    "We use the $-$ sign to index the complement of a set, for example $x_{-S}$ is the vector containing all elements of $x$ except $x_1$, $x_3$, and $x_6$.\n",
    "\n",
    "In Numpy we do the same thing programatically:"
   ]
  },
  {
   "cell_type": "code",
   "execution_count": 97,
   "metadata": {},
   "outputs": [
    {
     "data": {
      "text/plain": [
       "([0, 2, 5], [1, 3, 4, 6])"
      ]
     },
     "execution_count": 97,
     "metadata": {},
     "output_type": "execute_result"
    }
   ],
   "source": [
    "# we construct the complemantary set for S in the space of indices.\n",
    "S_bar = [i for i in range(0, len(v)) if i not in S]\n",
    "S, S_bar"
   ]
  },
  {
   "cell_type": "code",
   "execution_count": 98,
   "metadata": {},
   "outputs": [
    {
     "data": {
      "text/plain": [
       "array([ 7.99, 11.  , -1.  ,  7.  ], dtype=float32)"
      ]
     },
     "execution_count": 98,
     "metadata": {},
     "output_type": "execute_result"
    }
   ],
   "source": [
    "# now we get the elements.\n",
    "v[S_bar]"
   ]
  },
  {
   "cell_type": "markdown",
   "metadata": {},
   "source": [
    "## Matrices\n",
    "A Matrix is a 2-D array of numbers, so each element is identified by two indices instead of just one. If a real-valued matrix $\\bf{A}$ has the height of $m$ and the width of $n$, then we say that $\\bf{A}\\in\\Bbb{R}^{m \\times n}$, Let's create a Matrix in Numpy:"
   ]
  },
  {
   "cell_type": "code",
   "execution_count": 103,
   "metadata": {},
   "outputs": [
    {
     "data": {
      "text/plain": [
       "array([[1., 2., 3.],\n",
       "       [4., 5., 6.]], dtype=float32)"
      ]
     },
     "execution_count": 103,
     "metadata": {},
     "output_type": "execute_result"
    }
   ],
   "source": [
    "A = np.array([[1,2,3], [4,5,6]], dtype='float32'); A"
   ]
  },
  {
   "cell_type": "markdown",
   "metadata": {},
   "source": [
    "Let's look at the shape of the Matrix:"
   ]
  },
  {
   "cell_type": "code",
   "execution_count": 102,
   "metadata": {},
   "outputs": [
    {
     "data": {
      "text/plain": [
       "(2, 3)"
      ]
     },
     "execution_count": 102,
     "metadata": {},
     "output_type": "execute_result"
    }
   ],
   "source": [
    "A.shape"
   ]
  },
  {
   "cell_type": "markdown",
   "metadata": {},
   "source": [
    "`A` has a height of $m=2$ and a width of $n=3$."
   ]
  },
  {
   "cell_type": "markdown",
   "metadata": {},
   "source": [
    "To identify elements in a matrix we use the lower indices, for example $A_{1,1}$ is the upper left entry of $\\bf{A}$, and $A_{m,n}$ is the bottom right entry of the matrix $\\bf{A}$, in numpy:"
   ]
  },
  {
   "cell_type": "code",
   "execution_count": 107,
   "metadata": {},
   "outputs": [
    {
     "data": {
      "text/plain": [
       "(1.0, 6.0)"
      ]
     },
     "execution_count": 107,
     "metadata": {},
     "output_type": "execute_result"
    }
   ],
   "source": [
    "(A[0,0], A[1,2])"
   ]
  },
  {
   "cell_type": "markdown",
   "metadata": {},
   "source": [
    "We can identify all the numbers with vertical coordinate $i$ by writing a `:` for the horizontal coordinate. For example $A_{i,:}$ denotes the horizontal cross section of $\\bf{A}$ with vertical coordinate $i$, this is known as the i-th row of $\\bf{A}$. In Numpy we use the same notation:"
   ]
  },
  {
   "cell_type": "code",
   "execution_count": 109,
   "metadata": {},
   "outputs": [
    {
     "data": {
      "text/plain": [
       "array([1., 2., 3.], dtype=float32)"
      ]
     },
     "execution_count": 109,
     "metadata": {},
     "output_type": "execute_result"
    }
   ],
   "source": [
    "A[0,:]"
   ]
  },
  {
   "cell_type": "markdown",
   "metadata": {},
   "source": [
    "Likewise, $A_{:,j}$ is the j-th column of $\\bf{A}$:"
   ]
  },
  {
   "cell_type": "code",
   "execution_count": 110,
   "metadata": {},
   "outputs": [
    {
     "data": {
      "text/plain": [
       "array([2., 5.], dtype=float32)"
      ]
     },
     "execution_count": 110,
     "metadata": {},
     "output_type": "execute_result"
    }
   ],
   "source": [
    "A[:, 1]"
   ]
  },
  {
   "cell_type": "markdown",
   "metadata": {},
   "source": [
    "## Tensors\n",
    "In some cases we will need an array with more than two axes. In the general case, an array of numbers arranged on a regular grid with a variable number of axes is known as a tensor. We identify elements of a tensor by using multiple ordered indices by axis, example: $A_{i,j,k,l,m}$. Example of a tensor of 5 axis in numpy:"
   ]
  },
  {
   "cell_type": "code",
   "execution_count": 118,
   "metadata": {},
   "outputs": [
    {
     "data": {
      "text/plain": [
       "(3, 4, 2, 7, 5)"
      ]
     },
     "execution_count": 118,
     "metadata": {},
     "output_type": "execute_result"
    }
   ],
   "source": [
    "# very hard to visualise/imagine this.\n",
    "np.random.random((3,4,2,7,5)).shape"
   ]
  },
  {
   "cell_type": "markdown",
   "metadata": {},
   "source": [
    "## Transpose\n",
    "One important operation on matrices is the **transpose**. The transpose of a matrix is the mirror image of the matrix across a diagonal line, called the main diagonal , we denote the transpose of a Matrix $\\bf{A}$$ as $$\\bf{A}^{T}$, and it is defined such as:\n",
    "$$A_{i,j}=(A^{T})_{j,i} \\quad \\forall (i,j) \\in [0,m] \\times [0,n]$$\n",
    "\n",
    "In numpy, we have a transpose method that will directly give up the transpose of a numpy matrix:"
   ]
  },
  {
   "cell_type": "code",
   "execution_count": 120,
   "metadata": {},
   "outputs": [
    {
     "data": {
      "text/plain": [
       "array([[1., 2., 3.],\n",
       "       [4., 5., 6.],\n",
       "       [7., 8., 9.]], dtype=float32)"
      ]
     },
     "execution_count": 120,
     "metadata": {},
     "output_type": "execute_result"
    }
   ],
   "source": [
    "A = np.array([[1,2,3], [4,5,6], [7,8,9]], dtype='float32');A"
   ]
  },
  {
   "cell_type": "code",
   "execution_count": 124,
   "metadata": {},
   "outputs": [
    {
     "data": {
      "text/plain": [
       "array([[1., 4., 7.],\n",
       "       [2., 5., 8.],\n",
       "       [3., 6., 9.]], dtype=float32)"
      ]
     },
     "execution_count": 124,
     "metadata": {},
     "output_type": "execute_result"
    }
   ],
   "source": [
    "A_T = A.transpose(); A_T"
   ]
  },
  {
   "cell_type": "markdown",
   "metadata": {},
   "source": [
    "Vectors can be thought of as matrices that contain only one **column**. The transpose of a vector is therefore a matrix with one row.\n",
    "\n",
    "A Scalar can be thought of as a matrix with only a single entry. From this, we can see that a scalar is its own transpose: $a=a^T$."
   ]
  },
  {
   "cell_type": "markdown",
   "metadata": {},
   "source": [
    "## Simple Matrices Operations\n",
    "We can add matrices to each other, as long as they have the same shape, just by adding their corresponding elements: $\\bf{C}=\\bf{A} + \\bf{B}$ where $C_{i,j} = A_{i,j} + B_{i,j} \\quad \\forall (i,j) \\in [0,m] \\times [0,n]$, and we can easily add two matrices in numpy:"
   ]
  },
  {
   "cell_type": "code",
   "execution_count": 125,
   "metadata": {},
   "outputs": [
    {
     "data": {
      "text/plain": [
       "array([[ 6.,  8.],\n",
       "       [10., 12.]], dtype=float32)"
      ]
     },
     "execution_count": 125,
     "metadata": {},
     "output_type": "execute_result"
    }
   ],
   "source": [
    "A = np.array([[1,2], [3,4]], dtype='float32')\n",
    "B = np.array([[5,6], [7,8]], dtype='float32')\n",
    "C = np.add(A, B); C"
   ]
  },
  {
   "cell_type": "markdown",
   "metadata": {},
   "source": [
    "You can also add a scalar to a matrix or multiply a matrix by a scalar, just by performing that operation on each element of the matrix: $\\bf{D}=a \\cdot B + c$ where $D_{i,j} = a \\cdot B_{i,j} + c$. In numpy, it's as simple as adding two matrices:"
   ]
  },
  {
   "cell_type": "code",
   "execution_count": 129,
   "metadata": {},
   "outputs": [
    {
     "data": {
      "text/plain": [
       "array([[2., 3.],\n",
       "       [4., 5.]], dtype=float32)"
      ]
     },
     "execution_count": 129,
     "metadata": {},
     "output_type": "execute_result"
    }
   ],
   "source": [
    "# addition.\n",
    "np.add(A, 1)"
   ]
  },
  {
   "cell_type": "code",
   "execution_count": 130,
   "metadata": {},
   "outputs": [
    {
     "data": {
      "text/plain": [
       "array([[2., 4.],\n",
       "       [6., 8.]], dtype=float32)"
      ]
     },
     "execution_count": 130,
     "metadata": {},
     "output_type": "execute_result"
    }
   ],
   "source": [
    "# multiplication.\n",
    "np.multiply(A, 2)"
   ]
  },
  {
   "cell_type": "markdown",
   "metadata": {},
   "source": [
    "In the context of deep learning, we also use some less conventional notation. We allow the addition of a Matrix and a Vector, yielding another matrix, $\\bf{C}=\\bf{A}+\\bf{b}$, where $C_{i,j} = A_{i,j} + b_{j}$ , in other words, the vector $b$ is added to each row of the matrix. This implicit copying of $b$ to many locations is called **broadcasting**. It can be done in numpy:"
   ]
  },
  {
   "cell_type": "code",
   "execution_count": 131,
   "metadata": {},
   "outputs": [
    {
     "data": {
      "text/plain": [
       "array([1., 1.], dtype=float32)"
      ]
     },
     "execution_count": 131,
     "metadata": {},
     "output_type": "execute_result"
    }
   ],
   "source": [
    "b = np.array([1,1], dtype='float32');b"
   ]
  },
  {
   "cell_type": "code",
   "execution_count": 132,
   "metadata": {},
   "outputs": [
    {
     "data": {
      "text/plain": [
       "array([[2., 3.],\n",
       "       [4., 5.]], dtype=float32)"
      ]
     },
     "execution_count": 132,
     "metadata": {},
     "output_type": "execute_result"
    }
   ],
   "source": [
    "# Boradcasting happens automatically.\n",
    "np.add(A, b)"
   ]
  },
  {
   "cell_type": "markdown",
   "metadata": {},
   "source": [
    "# Multiplying Matrices and Vectors\n",
    "One of the most important operations involving matrices is multiplication of two matrices. the matrix product of Matrices $\\bf{A}$ and $\\bf{B}$ is a third matrix $\\bf{C}$, in order for this product to be defined, $\\bf{A}$ must have the same number of columns as $\\bf{B}$ has rows. If $\\bf{A}$ is of shape $m \\times n$ and $\\bf{B}$ is of shape $n \\times p$, then $\\bf{C}$ is of shape $m \\times p$. We can write the matrix product just by placing two or more matrices together, $\\bf{C}=\\bf{AB}$.\n",
    "\n",
    "In numpy, we can multiply two matrices directly, and np will throw an error if the shapes are compatible:"
   ]
  },
  {
   "cell_type": "code",
   "execution_count": 133,
   "metadata": {},
   "outputs": [],
   "source": [
    "A = np.array([[1,2,3], [4,5,6]], dtype='float32')\n",
    "B = np.array([[1,2], [4,5], [7,8]], dtype='float32')"
   ]
  },
  {
   "cell_type": "code",
   "execution_count": 134,
   "metadata": {},
   "outputs": [
    {
     "data": {
      "text/plain": [
       "((2, 3), (3, 2))"
      ]
     },
     "execution_count": 134,
     "metadata": {},
     "output_type": "execute_result"
    }
   ],
   "source": [
    "# the shapes are compatible for multiplication.\n",
    "A.shape, B.shape"
   ]
  },
  {
   "cell_type": "code",
   "execution_count": 136,
   "metadata": {},
   "outputs": [
    {
     "data": {
      "text/plain": [
       "array([[30., 36.],\n",
       "       [66., 81.]], dtype=float32)"
      ]
     },
     "execution_count": 136,
     "metadata": {},
     "output_type": "execute_result"
    }
   ],
   "source": [
    "# Matrix Product.\n",
    "np.matmul(A,B)"
   ]
  },
  {
   "cell_type": "markdown",
   "metadata": {},
   "source": [
    "The Product Operation if defined by:\n",
    "$$C_{i,j} = \\sum_{k}A_{i,k}B_{k,j}$$"
   ]
  },
  {
   "cell_type": "markdown",
   "metadata": {},
   "source": [
    "This operation is different than element-wise product, or **Hadamard product**, denoted as $\\bf{A} \\odot \\bf{B}$, in numpy:"
   ]
  },
  {
   "cell_type": "code",
   "execution_count": 141,
   "metadata": {},
   "outputs": [
    {
     "data": {
      "text/plain": [
       "array([[1., 2.],\n",
       "       [3., 4.]], dtype=float32)"
      ]
     },
     "execution_count": 141,
     "metadata": {},
     "output_type": "execute_result"
    }
   ],
   "source": [
    "A = np.array([[1,2], [3,4]], dtype='float32')\n",
    "B = np.array([[1,1], [1,1]], dtype='float32')\n",
    "np.multiply(A, B)"
   ]
  },
  {
   "cell_type": "markdown",
   "metadata": {},
   "source": [
    "The dot product between two vectors $x$ and $y$ of the same dimensionality is the matrix product $\\bf{x}^{T}\\bf{y}$, in numpy:"
   ]
  },
  {
   "cell_type": "code",
   "execution_count": 142,
   "metadata": {},
   "outputs": [
    {
     "data": {
      "text/plain": [
       "32.0"
      ]
     },
     "execution_count": 142,
     "metadata": {},
     "output_type": "execute_result"
    }
   ],
   "source": [
    "a = np.array([1,2,3], dtype='float32')\n",
    "b = np.array([4,5,6], dtype='float32')\n",
    "np.dot(a, b)"
   ]
  },
  {
   "cell_type": "markdown",
   "metadata": {},
   "source": [
    "Matrix product operations have many useful properties that make mathematical analysis of matrices more convenient. For example, matrix multiplication is distributive:\n",
    "\n",
    "$$\\bf{A}(\\bf{B}+\\bf{C})=\\bf{AB}+\\bf{AC}$$\n",
    "\n",
    "It is also associative:\n",
    "$$\\bf{A(BC)}=\\bf{(AB)C}$$\n",
    "\n",
    "Matrix multiplication is not commutative (the condition $\\bf{AB}=\\bf{BA}$ does not always hold). However, the dot product between two vectors is commutative:\n",
    "\n",
    "$$x^{T}y=y^{T}x$$\n",
    "\n",
    "The transpose of a matrix product has a simple form:\n",
    "\n",
    "$$(\\bf{AB})^{T}=\\bf{A}^{T}\\bf{B}^{T}$$"
   ]
  },
  {
   "cell_type": "markdown",
   "metadata": {},
   "source": [
    "We now know enough linear algebra notation to write down a system of linear equations:\n",
    "\n",
    "$$\\bf{Ax}=\\bf{b}$$\n",
    "\n",
    "Where $\\bf{A} \\in \\Bbb{R}^{m \\times n}$ is a known matrix, $\\bf{b} \\in \\Bbb{R}^{m \\times 1}$ is a known vector, and $\\bf{x} \\in \\Bbb{R}^{n \\times 1}$ is a vector of unknown variables we would like to solve for. Each element $x_i$ of $\\bf{x}$ is one of these unknown variables. Each row of $\\bf{A}$ and each element of $\\bf{b}$ provide another constraint.\n",
    "\n",
    "Matrix-vector product notation provides a more compact representation for equations of this form."
   ]
  },
  {
   "cell_type": "markdown",
   "metadata": {},
   "source": [
    "# Identity and Inverse Matrices\n",
    "Linear Algebra offers a powerful tool called **Matrix Inversion** that enables us to analytically solve the equation $\\bf{Ax}=\\bf{b}$ for many values of $\\bf{A}$.\n",
    "\n",
    "To describe Matrix inversion, we first need to define the concept of an identity matrix. An identity matrix is a matrix that does not change any vector when we multiply that vector by that matrix. We denote the identity matrix that preserves n-dimensional vectors as $\\bf{I}_n$. Formally, $\\bf{I}_{n} \\in \\Bbb{R}^{n \\times n}$, and:\n",
    "\n",
    "$$\\forall x \\in \\Bbb{R}^{n}, \\bf{I}_{n}x=x$$\n",
    "\n",
    "Let's take an example of an identity matrix and verify the condition on a vector example in numpy:"
   ]
  },
  {
   "cell_type": "code",
   "execution_count": 145,
   "metadata": {},
   "outputs": [
    {
     "data": {
      "text/plain": [
       "array([[1., 0., 0.],\n",
       "       [0., 1., 0.],\n",
       "       [0., 0., 1.]])"
      ]
     },
     "execution_count": 145,
     "metadata": {},
     "output_type": "execute_result"
    }
   ],
   "source": [
    "# first we get the identity matrix.\n",
    "I_3 = np.identity(n=3); I_3"
   ]
  },
  {
   "cell_type": "code",
   "execution_count": 148,
   "metadata": {},
   "outputs": [],
   "source": [
    "# now we define a vector of size-3 to verify if the product will result in the same vector.\n",
    "v = np.array([34, 0, 12], dtype='float32')"
   ]
  },
  {
   "cell_type": "code",
   "execution_count": 151,
   "metadata": {},
   "outputs": [
    {
     "data": {
      "text/plain": [
       "array([34.,  0., 12.])"
      ]
     },
     "execution_count": 151,
     "metadata": {},
     "output_type": "execute_result"
    }
   ],
   "source": [
    "np.matmul(I_3, v)"
   ]
  },
  {
   "cell_type": "markdown",
   "metadata": {},
   "source": [
    "The structure of the identity matrix is simple, all the entries along the main diagonal are 1, while all the other entries are zero.\n",
    "\n",
    "The matrix inverse of $\\bf{A}$ is denoted as $\\bf{A}^{-1}$, and it is defined as the matrix such as:\n",
    "\n",
    "$$\\bf{A}\\bf{A}^{-1}=\\bf{I}_n$$\n",
    "\n",
    "Let's get the inverse of a simple Matrix using Numpy:"
   ]
  },
  {
   "cell_type": "code",
   "execution_count": 158,
   "metadata": {},
   "outputs": [
    {
     "data": {
      "text/plain": [
       "array([[ 1.,  2.,  5.],\n",
       "       [ 3.,  9.,  1.],\n",
       "       [45.,  6., 69.]])"
      ]
     },
     "execution_count": 158,
     "metadata": {},
     "output_type": "execute_result"
    }
   ],
   "source": [
    "# we Init a Matrix with shape (3,3).\n",
    "A = np.array([[1,2,5], [3,9,1], [45,6,69]], dtype='float64'); A"
   ]
  },
  {
   "cell_type": "code",
   "execution_count": 159,
   "metadata": {},
   "outputs": [
    {
     "data": {
      "text/plain": [
       "array([[-0.37408759,  0.06569343,  0.02615572],\n",
       "       [ 0.09854015,  0.09489051, -0.00851582],\n",
       "       [ 0.23540146, -0.05109489, -0.00182482]])"
      ]
     },
     "execution_count": 159,
     "metadata": {},
     "output_type": "execute_result"
    }
   ],
   "source": [
    "# now we get its inverse.\n",
    "A_minus_1 = np.linalg.inv(A); A_minus_1"
   ]
  },
  {
   "cell_type": "code",
   "execution_count": 161,
   "metadata": {},
   "outputs": [
    {
     "data": {
      "text/plain": [
       "array([[ 1.00000000e+00,  2.08166817e-17, -2.16840434e-19],\n",
       "       [-1.66533454e-16,  1.00000000e+00,  1.45283091e-17],\n",
       "       [-2.22044605e-16,  2.42861287e-16,  1.00000000e+00]])"
      ]
     },
     "execution_count": 161,
     "metadata": {},
     "output_type": "execute_result"
    }
   ],
   "source": [
    "# Let's check if A and A_minus_1 verify the Inverse Requirement.\n",
    "np.matmul(A, A_minus_1)"
   ]
  },
  {
   "cell_type": "markdown",
   "metadata": {},
   "source": [
    "The Multiplication results in the $\\bf{I}_{3}$ array."
   ]
  },
  {
   "cell_type": "markdown",
   "metadata": {},
   "source": [
    "We can now solve $\\bf{A}x=b$ using the following steps:\n",
    "\n",
    "$$\\bf{A}x=b$$\n",
    "$$\\bf{A^{-1}A}x=\\bf{A}^{-1}b$$\n",
    "$$\\bf{I}_{n}x=\\bf{A}^{-1}b$$\n",
    "$$x=\\bf{A}^{-1}b$$\n",
    "\n",
    "Ofcoures, this process depends on the existence of $\\bf{A}^{-1}$.\n",
    "\n",
    "When $\\bf{A}^{-1}$ exists, several different algorithms can find it in closed form. In theory, the same inverse matrix can then be used to solve the equation many times for different values of $b$.\n",
    "\n",
    "$\\bf{A}^{-1}$ is primarily useful as a theoretical tool. however, it should not be actually used in practice for most software applications. because $\\bf{A}^{-1}$ can be represented with only limited precision on a digital computer, algorithms that make use of the value of $b$ can usually obtain more accurate estimates of $x$."
   ]
  },
  {
   "cell_type": "markdown",
   "metadata": {},
   "source": [
    "# Linear Dependence and Span\n",
    "For $\\bf{A}^{-1}$ to exist, $\\bf{A}x=\\bf{b}$ must have exactly one solution for every value of $b$. It is also possible for the system of equations to have no solutions or infinitely many solutions for the same values of $\\bf{b}$. It is not possible however to have more than one but less than infinitely many solutions for a particular $\\bf b$.\n",
    "\n",
    "if both $\\bf x$ and $\\bf y$ are solutions, then $\\bf{z} = \\alpha x + (1 - \\alpha)y$ is also a solution for any $\\alpha$.\n",
    "\n",
    "To analyze how many solutions the equation has, think of the columns of $\\bf{A}$ as specifying different directions we can travel in from the origin (the point specified by the vector of all zeros), then determine how many ways there are of reaching $\\bf{b}$.\n",
    "\n",
    "In this View, each element of $\\bf{x}$ specifies how far we should travel in each of these directions, with $x_i$ specifying how far to move in the direction of column $i$:\n",
    "\n",
    "$$\\bf{Ax} = \\sum_{i}x_{i}A_{i,:}$$\n",
    "\n",
    "In general, this kind of operation is called a linear combination. Formally, a linear combination of some set of vectors $\\{v^{(1)}, v^{(2)}, ..., v^{(n)}\\}$ is given by multiplying each vector $v^{(i)}$ by the corresponding scalar coefficient and adding the results:\n",
    "$$\\sum_{i}c_{i}v^{(i)}$$\n",
    "\n",
    "The span of a set of vectors is the set of all points obtainable by linear combination of the original vectors.\n",
    "Determining whether $\\bf{Ax}=\\bf{b}$ has a solution thus amounts to testing whether $b$ is on the span of the columns of $\\bf A$. This particular span is known as the column space, or the range, of $\\bf A$.\n",
    "\n",
    "In order for the system $\\bf{Ax}=\\bf{b}$ to have a solution for all values of $\\bf{b} \\in \\Bbb{R}^m$, we therefore require that the column space of $\\bf{A}$ be all of $\\Bbb{R}^{m}$.\n",
    "\n",
    "if any point in $\\Bbb{R}^m$ is excluded for the column space, that point is a potential value of $b$ that has no solution. The requirement that the column space of $A$ be all of $\\Bbb{R}^m$ implies immediately that $\\bf{A}$ have at least $m$ columns (m equations), that is, $n \\ge m$. Otherwise, the dimensionality of the column space would be less than $m$.\n",
    "\n",
    "In this case, Modifying the value of $x$ at best enables us to trace out a 2-D plane within $\\Bbb{R}^3$. The equation has a solution if and only if b lies in the that plane.\n",
    "\n",
    "Having $n \\ge m$ is only a necessary condition, not a suffient condition, because it's possible for some of the columns to be redundant, an example of that:"
   ]
  },
  {
   "cell_type": "code",
   "execution_count": 4,
   "metadata": {},
   "outputs": [],
   "source": [
    "# we create placeholders for vector/matrix elements.\n",
    "a_1, a_2 = _, _\n",
    "x_1, x_2 = _, _\n",
    "b_1, b_2 = _, _"
   ]
  },
  {
   "cell_type": "code",
   "execution_count": 12,
   "metadata": {},
   "outputs": [],
   "source": [
    "# Init A\n",
    "A = np.array([[a_1, a_1],[a_2, a_2]])"
   ]
  },
  {
   "cell_type": "code",
   "execution_count": 13,
   "metadata": {},
   "outputs": [],
   "source": [
    "# Init x.\n",
    "x = np.array([x_1, x_2])"
   ]
  },
  {
   "cell_type": "code",
   "execution_count": 14,
   "metadata": {},
   "outputs": [],
   "source": [
    "# Init b.\n",
    "b = np.array([b_1, b_2])"
   ]
  },
  {
   "cell_type": "markdown",
   "metadata": {},
   "source": [
    "Using these placeholders to extract the equations behind $\\bf{Ax}=\\bf{b}$ will give us:\n",
    "$$x_1 + x_2 = {b_1 \\over a_1}$$\n",
    "$$x_1 + x_2 = {b_2 \\over a_2}$$\n",
    "\n",
    "Which actually gives us one equation, In Other words, the column space is still just a line and fails to encompass all of $\\Bbb{R}^2$, even though there are two columns.\n",
    "\n",
    "This kind of Redundancy is known as **Linear Dependence**.\n",
    "\n",
    "A set of vectors are linearly **independant** if no vector in the set is a linear combination of the other vectors.\n",
    "\n",
    "\\[A have m linearly Independent Columns\\] $\\Rightarrow$ \\[There is a solution $x$ for every $b \\in \\Bbb{R}^{m \\times 1}$\\]"
   ]
  },
  {
   "cell_type": "markdown",
   "metadata": {},
   "source": [
    "For $A^{-1}$ to exist, $A$ must be square, and all of its columns should be linearly independent, and:\n",
    "\n",
    "$$AA^{-1}=I_n$$\n",
    "\n",
    "For square matrices, the left and the right inverses are equal."
   ]
  },
  {
   "cell_type": "markdown",
   "metadata": {},
   "source": [
    "# Norms"
   ]
  },
  {
   "cell_type": "markdown",
   "metadata": {},
   "source": [
    "The $L^p$ norm is given by:\n",
    "$$\\lVert x\\rVert_{p}=(\\sum_{i}\\lvert x_i\\rvert^p)^{1/p} \\quad p \\in \\Bbb{R}, p \\ge 1$$\n",
    "\n",
    "Norms are functions that map vectors to non-negative values. The norm of a vector $x$ measures the distance from the origin to the point $x$.\n",
    "\n",
    "A norm $f$ satisfies the following properties:\n",
    "\n",
    "- $f(x)=0 \\Rightarrow x=0_v$\n",
    "- $f(x+y) \\le f(x) + f(y)$ (triangle inequality)\n",
    "- $f(\\alpha x) = \\lvert \\alpha \\rvert f(x) \\quad \\forall \\alpha \\in \\Bbb{R}$ "
   ]
  },
  {
   "cell_type": "markdown",
   "metadata": {},
   "source": [
    "The $L^2$ Norm, is known as the Euclidean Norm:\n",
    "\n",
    "$$\\lVert x\\rVert_{2}=\\sqrt[2]{\\sum_{i} x_i^2}$$\n",
    "\n",
    "Let's calculate the euclidean norm of a vector using numpy:"
   ]
  },
  {
   "cell_type": "code",
   "execution_count": 4,
   "metadata": {},
   "outputs": [],
   "source": [
    "# we first create a vector.\n",
    "v = np.array([1,2,3], dtype='float32')"
   ]
  },
  {
   "cell_type": "code",
   "execution_count": 8,
   "metadata": {},
   "outputs": [
    {
     "data": {
      "text/plain": [
       "3.7416575"
      ]
     },
     "execution_count": 8,
     "metadata": {},
     "output_type": "execute_result"
    }
   ],
   "source": [
    "# we calculate the L2 norm\n",
    "np.linalg.norm(v, ord=2)"
   ]
  },
  {
   "cell_type": "markdown",
   "metadata": {},
   "source": [
    "The $L^1$ Norm may be simplified to:\n",
    "\n",
    "$$\\lVert x\\rVert_{1}=\\sum_{i}\\lvert x_i\\rvert$$\n",
    "\n",
    "The $L^{\\infty}$ Norm, also known as the max norm, is defined as follows:\n",
    "\n",
    "$$\\lVert x\\rVert_{\\infty}= \\max_{i}(\\lvert x_i\\rvert)$$\n",
    "\n",
    "We can calculate all of the classical norms using the `np.linalg.norm` function specifying the order in the arguments:"
   ]
  },
  {
   "cell_type": "code",
   "execution_count": 14,
   "metadata": {},
   "outputs": [
    {
     "data": {
      "text/plain": [
       "6.0"
      ]
     },
     "execution_count": 14,
     "metadata": {},
     "output_type": "execute_result"
    }
   ],
   "source": [
    "# Let's calculate the L1 Norm of the same vector.\n",
    "np.linalg.norm(v, ord=1)"
   ]
  },
  {
   "cell_type": "code",
   "execution_count": 15,
   "metadata": {},
   "outputs": [
    {
     "data": {
      "text/plain": [
       "3.0"
      ]
     },
     "execution_count": 15,
     "metadata": {},
     "output_type": "execute_result"
    }
   ],
   "source": [
    "# And the infinity/max norm.\n",
    "np.linalg.norm(v, ord=np.inf)"
   ]
  },
  {
   "cell_type": "markdown",
   "metadata": {},
   "source": [
    "In the Context of Matrices, we use the Frobenius Norm:\n",
    "\n",
    "$$\\lVert A\\rVert_{F}=\\sqrt[2]{\\sum_{i,j} A_{i,j}^2}$$\n",
    "\n",
    "Let's see how can we calculate the Frobenius Norm in Numpy:"
   ]
  },
  {
   "cell_type": "code",
   "execution_count": 16,
   "metadata": {},
   "outputs": [],
   "source": [
    "# first we create a matrix.\n",
    "A = np.array([[1,2,3], [4,5,6], [7,8,9]], dtype='float32')"
   ]
  },
  {
   "cell_type": "code",
   "execution_count": 17,
   "metadata": {},
   "outputs": [
    {
     "data": {
      "text/plain": [
       "16.881943"
      ]
     },
     "execution_count": 17,
     "metadata": {},
     "output_type": "execute_result"
    }
   ],
   "source": [
    "# and now we calculate the norm of the matrix using Frobenius.\n",
    "np.linalg.norm(A, ord='fro')"
   ]
  },
  {
   "cell_type": "markdown",
   "metadata": {},
   "source": [
    "# Special Kinds of Matrices and Vectors\n",
    "A Symmetric Matrix is any Matrix that is equal to its own transpose:\n",
    "\n",
    "$$\\bf{A}=\\bf{A}^T$$\n",
    "\n",
    "Example:"
   ]
  },
  {
   "cell_type": "code",
   "execution_count": 19,
   "metadata": {},
   "outputs": [
    {
     "data": {
      "text/plain": [
       "array([[1., 0.],\n",
       "       [0., 1.]], dtype=float32)"
      ]
     },
     "execution_count": 19,
     "metadata": {},
     "output_type": "execute_result"
    }
   ],
   "source": [
    "I_2 = np.array([[1,0], [0,1]], dtype='float32'); I_2"
   ]
  },
  {
   "cell_type": "code",
   "execution_count": 21,
   "metadata": {},
   "outputs": [
    {
     "data": {
      "text/plain": [
       "array([[1., 0.],\n",
       "       [0., 1.]], dtype=float32)"
      ]
     },
     "execution_count": 21,
     "metadata": {},
     "output_type": "execute_result"
    }
   ],
   "source": [
    "I_2.transpose()"
   ]
  },
  {
   "cell_type": "markdown",
   "metadata": {},
   "source": [
    "A Unit vector is a vector with unit Norm:\n",
    "\n",
    "$$\\lVert x \\rVert_2 = 1$$\n",
    "\n",
    "An Example of a Unit Vector:"
   ]
  },
  {
   "cell_type": "code",
   "execution_count": 22,
   "metadata": {},
   "outputs": [],
   "source": [
    "u_v = np.array([0,1,0,0,0,0], dtype='float32')"
   ]
  },
  {
   "cell_type": "code",
   "execution_count": 23,
   "metadata": {},
   "outputs": [
    {
     "data": {
      "text/plain": [
       "1.0"
      ]
     },
     "execution_count": 23,
     "metadata": {},
     "output_type": "execute_result"
    }
   ],
   "source": [
    "np.linalg.norm(u_v, ord=2)"
   ]
  },
  {
   "cell_type": "markdown",
   "metadata": {},
   "source": [
    "\\[Vectors $x$ and $y$ are Orthogonal\\] $\\Rightarrow$ \\[$x^{T}y=0$\\]\n",
    "\n",
    "Let's take two vectors and visualise them, and then calculate their dot product:"
   ]
  },
  {
   "cell_type": "code",
   "execution_count": 39,
   "metadata": {},
   "outputs": [],
   "source": [
    "# Create two orthogonal vectors.\n",
    "a_1 = np.array([3,3], dtype='float32')\n",
    "a_2 = np.array([2,-2], dtype='float32')"
   ]
  },
  {
   "cell_type": "code",
   "execution_count": 51,
   "metadata": {},
   "outputs": [
    {
     "data": {
      "image/png": "[encoded data removed]",
      "text/plain": [
       "<Figure size 432x288 with 1 Axes>"
      ]
     },
     "metadata": {},
     "output_type": "display_data"
    }
   ],
   "source": [
    "# let's visualise the two vectors.\n",
    "ax = plt.axes()\n",
    "ax.arrow(0, 0, a_1[0], a_1[1], head_width=0.1, head_length=0.1, fc='k', ec='k')\n",
    "ax.arrow(0, 0, a_2[0], a_2[1], head_width=0.1, head_length=0.1, fc='k', ec='k')\n",
    "plt.ylim(-3,3.5)\n",
    "plt.xlim(0,6)\n",
    "plt.show()"
   ]
  },
  {
   "cell_type": "code",
   "execution_count": 52,
   "metadata": {},
   "outputs": [
    {
     "data": {
      "text/plain": [
       "0.0"
      ]
     },
     "execution_count": 52,
     "metadata": {},
     "output_type": "execute_result"
    }
   ],
   "source": [
    "# and now let's calculate their dot product.\n",
    "np.dot(a_1, a_2)"
   ]
  },
  {
   "cell_type": "markdown",
   "metadata": {},
   "source": [
    "\\[Orthogonal Matrix $A$\\] $\\Rightarrow$ \\[$A^{T}A=AA^{T}=I_n$\\]\n",
    "\n",
    "and it also means that $A^T=A^{-1}$\n",
    "\n",
    "An example to this is any Identity Matrix."
   ]
  },
  {
   "cell_type": "markdown",
   "metadata": {},
   "source": [
    "# Eigen Decomposition\n",
    "Many mathematical objects can be understood better by breaking them into parts, example:\n",
    "\n",
    "$$12=2 \\times 2 \\times 3$$\n",
    "\n",
    "We can extract info about the number $12$ from the previous decomposition;\n",
    "* $12$ is not divisible by 5.\n",
    "* Any integer multiple of $12$ will be divisible by 3.\n",
    "\n",
    "We can also decompose matrices in ways that show us information about their functionnal properties."
   ]
  },
  {
   "cell_type": "code",
   "execution_count": null,
   "metadata": {},
   "outputs": [],
   "source": []
  }
 ],
 "metadata": {
  "kernelspec": {
   "display_name": "Python 3",
   "language": "python",
   "name": "python3"
  },
  "language_info": {
   "codemirror_mode": {
    "name": "ipython",
    "version": 3
   },
   "file_extension": ".py",
   "mimetype": "text/x-python",
   "name": "python",
   "nbconvert_exporter": "python",
   "pygments_lexer": "ipython3",
   "version": "3.6.5"
  }
 },
 "nbformat": 4,
 "nbformat_minor": 2
}
