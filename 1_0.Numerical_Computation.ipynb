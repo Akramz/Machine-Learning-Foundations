{
 "cells": [
  {
   "cell_type": "markdown",
   "metadata": {},
   "source": [
    "# Numerical Computation"
   ]
  },
  {
   "cell_type": "markdown",
   "metadata": {},
   "source": [
    "ML algorithms usually require a high amount of numerical computation.\n",
    "\n",
    "This typically refers to algorithms that solve mathematical problems by methods that update estimates of the solution via an iterative process, rather than analytically deriving a formula to provide a symbolic expression for the correct solution.\n",
    "\n",
    "Common operations include function optimization and solving systems of linear equations.\n",
    "\n",
    "Even just evaluating a mathematical function on a digital computer can be difficult when the function involves real numbers, which cannot be represented precisely using a finite amount of memory."
   ]
  },
  {
   "cell_type": "markdown",
   "metadata": {},
   "source": [
    "## Overflow & Underflow"
   ]
  },
  {
   "cell_type": "markdown",
   "metadata": {},
   "source": [
    "The fundamental difficulty in performing continuous math on a digital computer is that we need to represent infinitely many real numbers with a finite numbers of bit patterns.\n",
    "\n",
    "This means that for almost all real numbers, we incur some approximation error when we represent the number in the computer. In many cases, this is just rounding error.\n",
    "\n",
    "For example, we know that the decimal representation of $\\pi$ in never ending, so if we wanted to use $pi$ in a computer, we have to `round` it to a certain decimal precision, Example: "
   ]
  },
  {
   "cell_type": "code",
   "execution_count": 62,
   "metadata": {},
   "outputs": [],
   "source": [
    "import numpy as np\n",
    "import matplotlib.pyplot as plt\n",
    "import seaborn as sns\n",
    "from mpmath import mp\n",
    "import ipdb"
   ]
  },
  {
   "cell_type": "code",
   "execution_count": 14,
   "metadata": {},
   "outputs": [
    {
     "data": {
      "text/plain": [
       "3.141592653589793"
      ]
     },
     "execution_count": 14,
     "metadata": {},
     "output_type": "execute_result"
    }
   ],
   "source": [
    "pi = np.pi; pi"
   ]
  },
  {
   "cell_type": "markdown",
   "metadata": {},
   "source": [
    "Let's take a more precise value of $\\pi$ and calculate the error between numpy's `pi` and our $\\pi$:"
   ]
  },
  {
   "cell_type": "code",
   "execution_count": 15,
   "metadata": {},
   "outputs": [],
   "source": [
    "mp.dps = 33  # precision.\n",
    "our_pi = mp.pi"
   ]
  },
  {
   "cell_type": "code",
   "execution_count": 16,
   "metadata": {},
   "outputs": [
    {
     "name": "stdout",
     "output_type": "stream",
     "text": [
      "3.1415926535897932384626433832795\n"
     ]
    }
   ],
   "source": [
    "print(our_pi)"
   ]
  },
  {
   "cell_type": "code",
   "execution_count": 17,
   "metadata": {},
   "outputs": [
    {
     "data": {
      "text/plain": [
       "<bound method _mpf.ae of <pi: 3.14159~>>"
      ]
     },
     "execution_count": 17,
     "metadata": {},
     "output_type": "execute_result"
    }
   ],
   "source": [
    "our_pi.ae"
   ]
  },
  {
   "cell_type": "code",
   "execution_count": 18,
   "metadata": {},
   "outputs": [
    {
     "data": {
      "text/plain": [
       "1.2246467991473532e-16"
      ]
     },
     "execution_count": 18,
     "metadata": {},
     "output_type": "execute_result"
    }
   ],
   "source": [
    "error = our_pi - pi; float(error)"
   ]
  },
  {
   "cell_type": "markdown",
   "metadata": {},
   "source": [
    "Rounding Error is problematic, especially when it compounds across many operations, and can cause algorithms that work in theory to fail in practice if they are not designed to minimize the accumulation of rounding error."
   ]
  },
  {
   "cell_type": "markdown",
   "metadata": {},
   "source": [
    "One form of rounding error that is particularly devastating is **Underflow**. Underflow occurs when numbers near zero are rounded to zero.<br/>\n",
    "Many functions behave qualitatively differently when their argument is zero rather than a small positive number.\n",
    "\n",
    "For example, we usually want to avoid division by zero or taking the logarithm of zero.\n",
    "\n",
    "Another highly damaging form of numerical error is **Overflow**. Overflow occurs when numbers with large magnitude are approximated as $\\infty$ or $-\\infty$.<br/>\n",
    "Further arithmetic will usually change these infinite values into not-a-number values. "
   ]
  },
  {
   "cell_type": "markdown",
   "metadata": {},
   "source": [
    "One example of a function that must be stabilized against overflow and underflow is the **Softmax** function. The softmax function is often used to predict the probabilities associated with N classes of possible predictions (Example: Predict {Rainy, Sunny, Cloudy}), these probabilities are associated with a multinoulli distribution.\n",
    "\n",
    "The softmax function considers a pre-defined vector $x=\\{x_1, x_2, ..., x_n\\}$ and is defined to be from $\\Bbb{R} \\to [0,1]$ and:\n",
    "\n",
    "$$softmax(x)_i = {{e^{x_i}} \\over {\\sum^{n}_{j=1}e^{x_j}}}$$\n",
    "\n",
    "Let's implement it using numpy:"
   ]
  },
  {
   "cell_type": "code",
   "execution_count": 19,
   "metadata": {},
   "outputs": [],
   "source": [
    "# define the vector.\n",
    "x = np.array([2, 45, 64, 22, 7, 9, 13], dtype='float32')"
   ]
  },
  {
   "cell_type": "code",
   "execution_count": 25,
   "metadata": {},
   "outputs": [],
   "source": [
    "def softmax(x, x_i):\n",
    "    '''\n",
    "    Calculates the Softmax of an element considering the whole vector.\n",
    "    Input: Vector of all elements x, and element x_i that we want to calculate its softmax.\n",
    "    Output: Softmax(x_i).\n",
    "    '''\n",
    "    # to debug the nan.\n",
    "    ipdb.set_trace()\n",
    "    \n",
    "    upper = np.exp(x_i)\n",
    "    bottom = sum([np.exp(x_j) for x_j in x])\n",
    "    return upper / bottom"
   ]
  },
  {
   "cell_type": "code",
   "execution_count": 9,
   "metadata": {},
   "outputs": [
    {
     "data": {
      "text/plain": [
       "99.99999943972034"
      ]
     },
     "execution_count": 9,
     "metadata": {},
     "output_type": "execute_result"
    }
   ],
   "source": [
    "softmax(x, x[2])*100"
   ]
  },
  {
   "cell_type": "markdown",
   "metadata": {},
   "source": [
    "Let's verify that the softmax is a probability measure:"
   ]
  },
  {
   "cell_type": "code",
   "execution_count": 10,
   "metadata": {},
   "outputs": [
    {
     "data": {
      "text/plain": [
       "1.0"
      ]
     },
     "execution_count": 10,
     "metadata": {},
     "output_type": "execute_result"
    }
   ],
   "source": [
    "sum([softmax(x, x_i) for x_i in x])"
   ]
  },
  {
   "cell_type": "markdown",
   "metadata": {},
   "source": [
    "Consider what happens when all the $x_i$ are equal to some constant $c$.\n",
    "\n",
    "Analytically, we can see that all of probabilities should be equal to $1 \\over n$.\n",
    "\n",
    "But numerically, this may not occur when $c$ has large magnitude either in the left or the right direction.\n",
    "\n",
    "Let's test this using numpy:"
   ]
  },
  {
   "cell_type": "code",
   "execution_count": 21,
   "metadata": {},
   "outputs": [],
   "source": [
    "l = [999999999999*99999999999 for _ in range(10)]\n",
    "x = np.array(l, dtype='float32')"
   ]
  },
  {
   "cell_type": "markdown",
   "metadata": {},
   "source": [
    "The softmax output for any input should be $10%$, let's verify this:"
   ]
  },
  {
   "cell_type": "code",
   "execution_count": 22,
   "metadata": {},
   "outputs": [
    {
     "name": "stdout",
     "output_type": "stream",
     "text": [
      "> \u001b[0;32m<ipython-input-20-5e54f51395e9>\u001b[0m(10)\u001b[0;36msoftmax\u001b[0;34m()\u001b[0m\n",
      "\u001b[0;32m      9 \u001b[0;31m\u001b[0;34m\u001b[0m\u001b[0m\n",
      "\u001b[0m\u001b[0;32m---> 10 \u001b[0;31m    \u001b[0mupper\u001b[0m \u001b[0;34m=\u001b[0m \u001b[0mnp\u001b[0m\u001b[0;34m.\u001b[0m\u001b[0mexp\u001b[0m\u001b[0;34m(\u001b[0m\u001b[0mx_i\u001b[0m\u001b[0;34m)\u001b[0m\u001b[0;34m\u001b[0m\u001b[0m\n",
      "\u001b[0m\u001b[0;32m     11 \u001b[0;31m    \u001b[0mbottom\u001b[0m \u001b[0;34m=\u001b[0m \u001b[0msum\u001b[0m\u001b[0;34m(\u001b[0m\u001b[0;34m[\u001b[0m\u001b[0mnp\u001b[0m\u001b[0;34m.\u001b[0m\u001b[0mexp\u001b[0m\u001b[0;34m(\u001b[0m\u001b[0mx_j\u001b[0m\u001b[0;34m)\u001b[0m \u001b[0;32mfor\u001b[0m \u001b[0mx_j\u001b[0m \u001b[0;32min\u001b[0m \u001b[0mx\u001b[0m\u001b[0;34m]\u001b[0m\u001b[0;34m)\u001b[0m\u001b[0;34m\u001b[0m\u001b[0m\n",
      "\u001b[0m\n"
     ]
    },
    {
     "name": "stdin",
     "output_type": "stream",
     "text": [
      "ipdb>  x_i\n"
     ]
    },
    {
     "name": "stdout",
     "output_type": "stream",
     "text": [
      "1e+23\n"
     ]
    },
    {
     "name": "stdin",
     "output_type": "stream",
     "text": [
      "ipdb>  np.exp(x_i)\n"
     ]
    },
    {
     "name": "stdout",
     "output_type": "stream",
     "text": [
      "inf\n"
     ]
    },
    {
     "name": "stdin",
     "output_type": "stream",
     "text": [
      "ipdb>  sum([np.exp(x_j) for x_j in x])\n"
     ]
    },
    {
     "name": "stdout",
     "output_type": "stream",
     "text": [
      "inf\n"
     ]
    },
    {
     "name": "stdin",
     "output_type": "stream",
     "text": [
      "ipdb>  c\n"
     ]
    },
    {
     "name": "stderr",
     "output_type": "stream",
     "text": [
      "/anaconda3/envs/kaggle/lib/python3.7/site-packages/ipykernel_launcher.py:10: RuntimeWarning: invalid value encountered in true_divide\n",
      "  # Remove the CWD from sys.path while we load stuff.\n"
     ]
    },
    {
     "data": {
      "text/plain": [
       "nan"
      ]
     },
     "execution_count": 22,
     "metadata": {},
     "output_type": "execute_result"
    }
   ],
   "source": [
    "softmax(x, x[0])"
   ]
  },
  {
   "cell_type": "markdown",
   "metadata": {},
   "source": [
    "The output is a `nan` because the exponential of a big number is `inf` and so `inf` over `inf` is undefined. This is what's called the overflow problem."
   ]
  },
  {
   "cell_type": "markdown",
   "metadata": {},
   "source": [
    "For the second example, Let's take numbers that are very small:"
   ]
  },
  {
   "cell_type": "code",
   "execution_count": 23,
   "metadata": {},
   "outputs": [],
   "source": [
    "l = [-999999999999*99999999999 for _ in range(10)]\n",
    "x = np.array(l, dtype='float32')"
   ]
  },
  {
   "cell_type": "code",
   "execution_count": 24,
   "metadata": {},
   "outputs": [
    {
     "name": "stdout",
     "output_type": "stream",
     "text": [
      "> \u001b[0;32m<ipython-input-20-5e54f51395e9>\u001b[0m(10)\u001b[0;36msoftmax\u001b[0;34m()\u001b[0m\n",
      "\u001b[0;32m      9 \u001b[0;31m\u001b[0;34m\u001b[0m\u001b[0m\n",
      "\u001b[0m\u001b[0;32m---> 10 \u001b[0;31m    \u001b[0mupper\u001b[0m \u001b[0;34m=\u001b[0m \u001b[0mnp\u001b[0m\u001b[0;34m.\u001b[0m\u001b[0mexp\u001b[0m\u001b[0;34m(\u001b[0m\u001b[0mx_i\u001b[0m\u001b[0;34m)\u001b[0m\u001b[0;34m\u001b[0m\u001b[0m\n",
      "\u001b[0m\u001b[0;32m     11 \u001b[0;31m    \u001b[0mbottom\u001b[0m \u001b[0;34m=\u001b[0m \u001b[0msum\u001b[0m\u001b[0;34m(\u001b[0m\u001b[0;34m[\u001b[0m\u001b[0mnp\u001b[0m\u001b[0;34m.\u001b[0m\u001b[0mexp\u001b[0m\u001b[0;34m(\u001b[0m\u001b[0mx_j\u001b[0m\u001b[0;34m)\u001b[0m \u001b[0;32mfor\u001b[0m \u001b[0mx_j\u001b[0m \u001b[0;32min\u001b[0m \u001b[0mx\u001b[0m\u001b[0;34m]\u001b[0m\u001b[0;34m)\u001b[0m\u001b[0;34m\u001b[0m\u001b[0m\n",
      "\u001b[0m\n"
     ]
    },
    {
     "name": "stdin",
     "output_type": "stream",
     "text": [
      "ipdb>  np.exp(x_i)\n"
     ]
    },
    {
     "name": "stdout",
     "output_type": "stream",
     "text": [
      "0.0\n"
     ]
    },
    {
     "name": "stdin",
     "output_type": "stream",
     "text": [
      "ipdb>  sum([np.exp(x_j) for x_j in x])\n"
     ]
    },
    {
     "name": "stdout",
     "output_type": "stream",
     "text": [
      "0.0\n"
     ]
    },
    {
     "name": "stdin",
     "output_type": "stream",
     "text": [
      "ipdb>  c\n"
     ]
    },
    {
     "name": "stderr",
     "output_type": "stream",
     "text": [
      "/anaconda3/envs/kaggle/lib/python3.7/site-packages/ipykernel_launcher.py:10: RuntimeWarning: invalid value encountered in true_divide\n",
      "  # Remove the CWD from sys.path while we load stuff.\n"
     ]
    },
    {
     "data": {
      "text/plain": [
       "nan"
      ]
     },
     "execution_count": 24,
     "metadata": {},
     "output_type": "execute_result"
    }
   ],
   "source": [
    "softmax(x, x[0])"
   ]
  },
  {
   "cell_type": "markdown",
   "metadata": {},
   "source": [
    "The output is `nan` because the exponential of a very big but negative number rounds to 0, and 0 over 0 is undefined. This is what's called the underflow problem."
   ]
  },
  {
   "cell_type": "markdown",
   "metadata": {},
   "source": [
    "Both of these difficulties can be resolved by instead evaluating softmax(z) where $z=x-max_i(x_i)$. Let's write this new softmax function: "
   ]
  },
  {
   "cell_type": "code",
   "execution_count": 33,
   "metadata": {},
   "outputs": [],
   "source": [
    "def softmax(x, x_i):\n",
    "    '''\n",
    "    Calculates the Softmax of an element considering the whole vector.\n",
    "    Input: Vector of all elements x, and element x_i that we want to calculate its softmax.\n",
    "    Output: Softmax(x_i).\n",
    "    '''\n",
    "    # to debug the nan.\n",
    "    #ipdb.set_trace()\n",
    "    \n",
    "    n_x_i = x_i - max(x)\n",
    "    n_x   = [x_j - max(x) for x_j in x]\n",
    "    \n",
    "    upper = np.exp(n_x_i)\n",
    "    bottom = sum([np.exp(x_j) for x_j in n_x])\n",
    "    return upper / bottom"
   ]
  },
  {
   "cell_type": "markdown",
   "metadata": {},
   "source": [
    "Let's test it for big negative numbers:"
   ]
  },
  {
   "cell_type": "code",
   "execution_count": 34,
   "metadata": {},
   "outputs": [
    {
     "data": {
      "text/plain": [
       "0.1"
      ]
     },
     "execution_count": 34,
     "metadata": {},
     "output_type": "execute_result"
    }
   ],
   "source": [
    "softmax(x, x[0])"
   ]
  },
  {
   "cell_type": "markdown",
   "metadata": {},
   "source": [
    "And let's test it for big positive numbers:"
   ]
  },
  {
   "cell_type": "code",
   "execution_count": 35,
   "metadata": {},
   "outputs": [],
   "source": [
    "l = [999999999999*99999999999 for _ in range(10)]\n",
    "x = np.array(l, dtype='float32')"
   ]
  },
  {
   "cell_type": "code",
   "execution_count": 36,
   "metadata": {},
   "outputs": [
    {
     "data": {
      "text/plain": [
       "0.1"
      ]
     },
     "execution_count": 36,
     "metadata": {},
     "output_type": "execute_result"
    }
   ],
   "source": [
    "softmax(x, x[0])"
   ]
  },
  {
   "cell_type": "markdown",
   "metadata": {},
   "source": [
    "It's working because we scale the elements in the tensor, here is an example:"
   ]
  },
  {
   "cell_type": "code",
   "execution_count": 55,
   "metadata": {},
   "outputs": [
    {
     "data": {
      "text/plain": [
       "array([6.63429843e+100, 9.23631147e+099, 6.44757050e+100, 6.47735934e+100,\n",
       "       6.36622260e+100, 7.43810763e+100, 3.64323466e+100, 2.36613059e+100,\n",
       "       1.03367117e+100, 7.20193653e+100])"
      ]
     },
     "execution_count": 55,
     "metadata": {},
     "output_type": "execute_result"
    }
   ],
   "source": [
    "# Big positive numbers.\n",
    "x = np.random.rand(10,)*100e99;x"
   ]
  },
  {
   "cell_type": "code",
   "execution_count": 56,
   "metadata": {},
   "outputs": [
    {
     "data": {
      "text/plain": [
       "array([-inf, -inf, -inf, -inf, -inf,   0., -inf, -inf, -inf, -inf],\n",
       "      dtype=float32)"
      ]
     },
     "execution_count": 56,
     "metadata": {},
     "output_type": "execute_result"
    }
   ],
   "source": [
    "# scale.\n",
    "np.array([x_i - max(x) for x_i in x], dtype='float32')"
   ]
  },
  {
   "cell_type": "code",
   "execution_count": 58,
   "metadata": {},
   "outputs": [
    {
     "data": {
      "text/plain": [
       "(0.0, 1.0)"
      ]
     },
     "execution_count": 58,
     "metadata": {},
     "output_type": "execute_result"
    }
   ],
   "source": [
    "softmax(x, x[1]), softmax(x, x[5])"
   ]
  },
  {
   "cell_type": "markdown",
   "metadata": {},
   "source": [
    "Simple algebra shows that the value of the softmax function is not changed analytically by adding or substracting a scalar from the elements of the vector.\n",
    "\n",
    "Substracting $max_i x_i$ results in the largest argument to exp being 0, which rules out the possibility of overflow. Likewise, at least one term in the denominator has a value of 1, which rules out the possibility of underflow in the denominator leading to a division by zero."
   ]
  },
  {
   "cell_type": "markdown",
   "metadata": {},
   "source": [
    "There is still one small problem, as we saw in the previous, if there is a big margin between one element and the max, So underflow in the numerator can still cause the expression to evaluate to zero. This means that if we implement logsoftmax(x) by first running the softmax subroutine then passing the result to the log function, we could erroneously obtain $-\\infty$.\n",
    "\n",
    "Instead, we must implement a separate function that calculate logsoftmax in a numerical stable way. The logsoftmax function can be stabilized using the same trick as we used to stabilize the softmax function.\n",
    "\n",
    "Theano is an example of a software package that automatically detects and stabilizes many common numerically unstable expressions that arise in the context of deep learning."
   ]
  },
  {
   "cell_type": "markdown",
   "metadata": {},
   "source": [
    "## Poor Conditionning"
   ]
  },
  {
   "cell_type": "markdown",
   "metadata": {},
   "source": [
    "Conditionning refers to how rapidly a function changes with respect to small changes in its inputs. Functions that change rapidly when their inputs are perturbed slightly can be problematic for scientific computation because rounding errors in the inputs can result in large changes in the output."
   ]
  },
  {
   "cell_type": "markdown",
   "metadata": {},
   "source": [
    "Consider the function $f(x)=\\bf{A}^{-1}x$. When $\\bf{A} \\in \\Bbb{R}^{n \\times n}$ has an eigenvalue decomposition, its **condition number** is:\n",
    "\n",
    "$$max_{i,j} |{\\lambda_{i} \\over \\lambda_{j}}|$$\n",
    "\n",
    "This is the ratio of the magnitude of the largest and smallest eigenvalue. When this number is large, matrix inversion is particularly sensitive to error in the input.\n",
    "\n",
    "This sensitivity is an intrinsic property of the matrix itself, not the result of rounding error during matrix inversion. Poorly conditioned matrices amplify pre-existing errors when we multiply by the true matrix inverse. In practice, the error will be compounded further by numerical errors in the inversion process itself."
   ]
  },
  {
   "cell_type": "markdown",
   "metadata": {},
   "source": [
    "## Gradient-Based Optimization"
   ]
  },
  {
   "cell_type": "markdown",
   "metadata": {},
   "source": [
    "Most deep learning algorithms involve optimization of some sort. Optimization refers to the task of either minimizing or maximizing some function $f(x)$ by altering $x$. We usually phrase most optimization problems in terms of minimizing $f(x)$.\n",
    "\n",
    "The function that we want to minimize or maximize is usually called the **objective function**, or **criterion**. When we are minimizing it, we may also call it the **cost function**, **loss function**, or **error function**.\n",
    "\n",
    "We denote the value that minimizes a function $f(x)$ using $*$, we might say: $x^{*} = argmin f(x)$"
   ]
  },
  {
   "cell_type": "markdown",
   "metadata": {},
   "source": [
    "Suppose we have a function $y=f(x)$, where both $x$ and $y$ are real numbers.\n",
    "\n",
    "The derivative of this function is denoted as $f'(x)$ or as ${df} \\over {dx}$, the derivative $f'(x)$ gives the slope of $f(x)$ at the point x. In other words, it specifies how to scale a small change in the input to obtain the corresponding change in the output: $f(x+\\epsilon) = f(x) + \\epsilon f'(x)$.\n",
    "\n",
    "The derivative is therefore useful for minimizing a function because it tells us how to change $x$ in order to make a small improvement in $y$.\n",
    "\n",
    "For example, we know that $f(x-\\epsilon \\cdot sign(f'(x)))$ is less than $f(x)$ for a small enough $\\epsilon$. we can thus reduce $f(x)$ by moving $x$ in small steps in the opposite direction of the derivative. This technique is called **Gradient Descent**."
   ]
  },
  {
   "cell_type": "markdown",
   "metadata": {},
   "source": [
    "Let's do an example in Numpy:"
   ]
  },
  {
   "cell_type": "code",
   "execution_count": 197,
   "metadata": {},
   "outputs": [],
   "source": [
    "def f(x):\n",
    "    '''\n",
    "    Function: f(x)=(x^2)/2\n",
    "    Input: x.\n",
    "    Output: (x^2)/2.\n",
    "    '''\n",
    "    return np.around((x*x)/2, decimals=1)"
   ]
  },
  {
   "cell_type": "code",
   "execution_count": 198,
   "metadata": {},
   "outputs": [],
   "source": [
    "def grad_f(x):\n",
    "    '''\n",
    "    The Gradient of f(x)=(x^2)/2, it's grad_f(x)=x.\n",
    "    Input: x.\n",
    "    Output: x.\n",
    "    '''\n",
    "    return x"
   ]
  },
  {
   "cell_type": "code",
   "execution_count": 199,
   "metadata": {},
   "outputs": [],
   "source": [
    "# we generate some points.\n",
    "x = np.arange(start=-10, stop=10, step=0.1, dtype='float32')\n",
    "y = [f(x_i) for x_i in x]"
   ]
  },
  {
   "cell_type": "code",
   "execution_count": 200,
   "metadata": {},
   "outputs": [],
   "source": [
    "# we get the gradients.\n",
    "grad_y = [grad_f(x_i) for x_i in x]"
   ]
  },
  {
   "cell_type": "markdown",
   "metadata": {},
   "source": [
    "Let's construct three slope functions, in:\n",
    "* $x=-1.5$\n",
    "* $x=0$\n",
    "* $x=1$"
   ]
  },
  {
   "cell_type": "code",
   "execution_count": 201,
   "metadata": {},
   "outputs": [],
   "source": [
    "# the three points of interest.\n",
    "x_1 = -1.5\n",
    "x_2 = 0\n",
    "x_3 = 1"
   ]
  },
  {
   "cell_type": "code",
   "execution_count": 202,
   "metadata": {},
   "outputs": [],
   "source": [
    "# first thing is to get the slopes in the corresponding points.\n",
    "a_1 = grad_f(x_1)\n",
    "a_2 = grad_f(x_2)\n",
    "a_3 = grad_f(x_3)"
   ]
  },
  {
   "cell_type": "code",
   "execution_count": 206,
   "metadata": {},
   "outputs": [],
   "source": [
    "# next we draw the corresponding three functions around the points.\n",
    "x_1_range = [np.around(x_1_i, decimals=1) for x_1_i in np.arange(start=x_1-0.3, stop=x_1+0.3+0.1, step=0.1, dtype='float16')]\n",
    "x_2_range = [np.around(x_2_i, decimals=1) for x_2_i in np.arange(start=x_2-0.3, stop=x_2+0.3+0.1, step=0.1, dtype='float16')]\n",
    "x_3_range = [np.around(x_3_i, decimals=1) for x_3_i in np.arange(start=x_3-0.3, stop=x_3+0.3+0.1, step=0.1, dtype='float16')]"
   ]
  },
  {
   "cell_type": "markdown",
   "metadata": {},
   "source": [
    "We have the slope function:\n",
    "\n",
    "$$y = f'(x_0)x - f(x_0)$$"
   ]
  },
  {
   "cell_type": "code",
   "execution_count": 207,
   "metadata": {},
   "outputs": [],
   "source": [
    "# now we get the gradient y_s corresponding to the three ranges.\n",
    "g_1 = [(a_1*x_i) - f(x_1) for x_i in x_1_range]\n",
    "g_2 = [(a_2*x_i) - f(x_2) for x_i in x_2_range]\n",
    "g_3 = [(a_3*x_i) - f(x_3) for x_i in x_3_range]"
   ]
  },
  {
   "cell_type": "markdown",
   "metadata": {},
   "source": [
    "Let's plot the function, It's derivative function, and some slope examples:"
   ]
  },
  {
   "cell_type": "code",
   "execution_count": 208,
   "metadata": {},
   "outputs": [
    {
     "data": {
      "image/png": "[encoded data removed]",
      "text/plain": [
       "<Figure size 432x288 with 1 Axes>"
      ]
     },
     "metadata": {
      "needs_background": "light"
     },
     "output_type": "display_data"
    }
   ],
   "source": [
    "plt.clf()\n",
    "\n",
    "plt.plot(x, y, '--', color='blue')\n",
    "plt.plot(x, grad_y, color='green')\n",
    "\n",
    "plt.plot(x_1_range, g_1, color='black')\n",
    "plt.plot(x_2_range, g_2, color='black')\n",
    "plt.plot(x_3_range, g_3, color='black')\n",
    "\n",
    "plt.xlim(-2, 2)\n",
    "plt.ylim(-2, 2)\n",
    "\n",
    "plt.show()"
   ]
  },
  {
   "cell_type": "markdown",
   "metadata": {},
   "source": [
    "When $f'(x)=0$, the derivative provides to information about which direction to move. Points where $f'(x)=0$ are known as **critical points**, or **stationary points**. A **Local Minimum** is a point where $f(x)$ is lower than all neighbouring points, so it is no longer possible to decrease $f(x)$ by making infitesimal steps.\n",
    "\n",
    "Some critial points are neither maxima or minima, These are known as **saddle points**.\n",
    "\n",
    "<img src=\"imgs/critical_points_types.png\" />"
   ]
  },
  {
   "cell_type": "code",
   "execution_count": null,
   "metadata": {},
   "outputs": [],
   "source": []
  }
 ],
 "metadata": {
  "kernelspec": {
   "display_name": "Python 3",
   "language": "python",
   "name": "python3"
  },
  "language_info": {
   "codemirror_mode": {
    "name": "ipython",
    "version": 3
   },
   "file_extension": ".py",
   "mimetype": "text/x-python",
   "name": "python",
   "nbconvert_exporter": "python",
   "pygments_lexer": "ipython3",
   "version": "3.7.0"
  }
 },
 "nbformat": 4,
 "nbformat_minor": 2
}
